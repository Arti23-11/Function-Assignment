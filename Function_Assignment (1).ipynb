{
  "nbformat": 4,
  "nbformat_minor": 0,
  "metadata": {
    "colab": {
      "provenance": []
    },
    "kernelspec": {
      "name": "python3",
      "display_name": "Python 3"
    },
    "language_info": {
      "name": "python"
    }
  },
  "cells": [
    {
      "cell_type": "markdown",
      "source": [
        "Theory Questions:\n",
        "\n",
        "1. What is the difference between a function and a method in Python?\n",
        "\n",
        "Ans: Functions:A function is a structured, reusable code block utilized for carrying out a specific task. Functions facilitate the creation of modular code, simplifying maintenance and reusability.\n",
        "\n",
        "def greet(name):\n",
        "    return f\"Hello, {name}!\"\n",
        "\n",
        "Method: A method is a function that is defined inside a class and is associated with an object. It operates on the data (attributes) of the object it is called on.\n",
        "\n",
        "class Greeter:\n",
        "    def greet(self, name):\n",
        "        return f\"Hello, {name}!\"\n",
        "\n",
        "2. Explain the concept of function arguments and parameters in Python.\n",
        "\n",
        "Ans: In Python, function arguments and parameters are fundamental concepts that enable functions to accept input values and perform operations based on them. Here's a detailed explanation:\n",
        "\n",
        "Parameters\n",
        "Definition: Parameters are the variables defined in the function's declaration (or definition). They act as placeholders for the values that the function will receive when it is called.\n",
        "Purpose: They define the input that the function expects.\n",
        "Example:\n",
        "def greet(name):  # 'name' is a parameter\n",
        "    print(f\"Hello, {name}!\")\n",
        "\n",
        "Arguments\n",
        "Definition: Arguments are the actual values or data you pass to the function when calling it. These values replace the parameters in the function definition.\n",
        "Purpose: They provide the input data for the function to process.\n",
        "Example:\n",
        "greet(\"Alice\")  # \"Alice\" is an argument\n",
        "# Output: Hello, Alice!\n",
        "\n",
        "3. What are the different ways to define and call a function in Python?\n",
        "\n",
        "Ans: Defining a Function\n",
        "By using the word def keyword followed by the function's name and parentheses () we can define a function. If the function takes any arguments, they are included inside the parentheses. The code inside a function must be indented after the colon to indicate it belongs to that function.\n",
        "\n",
        "Calling a Function\n",
        "To call a function in Python, we definitely type the name of the function observed via parentheses (). If the function takes any arguments, they may be covered within the parentheses . Below is the example for calling def function Python.\n",
        "\n",
        " 4. What is the purpose of the `return` statement in a Python function?\n",
        "\n",
        " Ans: The return statement in a Python function is used to:\n",
        "\n",
        "End the Function Execution: When a return statement is encountered, the function stops executing immediately, and control is handed back to the caller.\n",
        "\n",
        "Send a Value Back to the Caller: The return statement allows a function to send a value (or multiple values as a tuple) back to the code that called it. This value can then be used or stored by the caller.\n",
        "\n",
        "Optional Return Value: If no value is specified after return, the function returns None by default.\n",
        "\n",
        "5. What are iterators in Python and how do they differ from iterables?\n",
        "\n",
        "Ans: Iterators:\n",
        "\n",
        "Definition: An iterator is an object that allows traversal through a countable number of values. It is used to iterate over iterable objects like lists, tuples, sets, etc\n",
        "\n",
        "Iterables: Generators return data in an iterable format, allowing the sequence to be iterated over, much like a list or tuple.\n",
        "\n",
        "6. Explain the concept of generators in Python and how they are defined.\n",
        "\n",
        "Ans: Generators:\n",
        "\n",
        "Definition: Generators are a simple way to create iterators using functions and the yield keyword instead of returning values.\n",
        "\n",
        "7. What are the advantages of using generators over regular functions?\n",
        "\n",
        "Ans: Advantages:\n",
        "\n",
        "Efficient Memory Usage: Generators do not store the entire sequence in memory, making them suitable for large datasets or infinite sequences.\n",
        "\n",
        "Simpler Syntax: Using yield simplifies the creation of iterators, making the code more concise and readable.\n",
        "\n",
        " 8. What is a lambda function in Python and when is it typically used?\n",
        "\n",
        " Ans: Lambda Functions:\n",
        "\n",
        "Definition: Lambda functions are small, anonymous functions defined using the lambda keyword. They are used for creating small, throwaway functions without the need to formally define a function using def\n",
        "\n",
        "Key Points:\n",
        "\n",
        "Anonymous: Lambda functions are not bound to a name.\n",
        "Single Expression: They can contain only one expression, which is evaluated and returned.\n",
        "\n",
        " 9. Explain the purpose and usage of the `map()` function in Python.\n",
        "\n",
        " Ans: Map Functions:\n",
        "\n",
        "Definition: The map function applies a given function to all items in an input iterable (like a list) and returns an iterator with the results.\n",
        "\n",
        "Key Points:\n",
        "\n",
        "Transformation: Used to transform each item in an iterable by applying the specified function.\n",
        "\n",
        "10. What is the difference between `map()`, `reduce()`, and `filter()` functions in Python?\n",
        "\n",
        "Ans: Map Definition: The map function applies a given function to all items in an input iterable (like a list) and returns an iterator with the results.\n",
        "\n",
        "Key Points:\n",
        "\n",
        "Transformation: Used to transform each item in an iterable by applying the specified function.\n",
        "Syntax:\n",
        "map(function, iterable)\n",
        "\n",
        "Reduce Definition: The reduce function from the functools module applies a given function cumulatively to the items of a sequence, from left to right, to reduce the sequence to a single value.\n",
        "\n",
        "Key Points:\n",
        "\n",
        "Cumulative Operation: It reduces an iterable to a single cumulative value by applying the function cumulatively.\n",
        "Syntax:\n",
        "from functools import reduce\n",
        "reduce(function, iterable)\n",
        "\n",
        "Filter Definition: The filter function constructs an iterator from elements of an iterable for which a specified function returns True.\n",
        "\n",
        "Key Points:\n",
        "\n",
        "Selection: Used for filtering elements from an iterable based on a condition defined by the function.\n",
        "Syntax:\n",
        "filter(function, iterable)\n",
        "\n",
        "11. Using pen & Paper write the internal mechanism for sum operation using  reduce function on this given\n",
        "list:[47,11,42,13];\n",
        "\n",
        "Ans:\n",
        "\n",
        "\n",
        "\n",
        "\n"
      ],
      "metadata": {
        "id": "GPEwHLKQ7j_r"
      }
    },
    {
      "cell_type": "markdown",
      "source": [
        " Practical Questions:\n",
        "\n",
        " #1. Write a Python function that takes a list of numbers as input and returns the sum of all even numbers in the list -->"
      ],
      "metadata": {
        "id": "Eh_fRN8RNqyq"
      }
    },
    {
      "cell_type": "code",
      "source": [
        "my_list=[2,1,3,4,5,6]\n",
        "result=sum(filter(lambda x:x%2==0,my_list))\n",
        "print(result)"
      ],
      "metadata": {
        "colab": {
          "base_uri": "https://localhost:8080/"
        },
        "id": "T6D2P1poR747",
        "outputId": "e3a58130-29b6-4c6d-8fb4-7f9f871f1fef"
      },
      "execution_count": null,
      "outputs": [
        {
          "output_type": "stream",
          "name": "stdout",
          "text": [
            "12\n"
          ]
        }
      ]
    },
    {
      "cell_type": "markdown",
      "source": [
        "#2. Create a Python function that accepts a string and returns the reverse of that string."
      ],
      "metadata": {
        "id": "uu9hV5cPT6eX"
      }
    },
    {
      "cell_type": "code",
      "source": [
        "string1=\"hello\"\n",
        "reverse_string=string1[::-1]\n",
        "print(reverse_string)"
      ],
      "metadata": {
        "colab": {
          "base_uri": "https://localhost:8080/"
        },
        "id": "W-O_23bRUUVd",
        "outputId": "18aa3b66-4f3d-4eb4-b77e-4ef933584b39"
      },
      "execution_count": null,
      "outputs": [
        {
          "output_type": "stream",
          "name": "stdout",
          "text": [
            "olleh\n"
          ]
        }
      ]
    },
    {
      "cell_type": "markdown",
      "source": [
        "3. Implement a Python function that takes a list of integers and returns a new list containing the squares of each number."
      ],
      "metadata": {
        "id": "Y0j-ldpla4cf"
      }
    },
    {
      "cell_type": "code",
      "source": [
        "n=[1,2,3,4,5]\n",
        "[num**2 for num in n]\n"
      ],
      "metadata": {
        "colab": {
          "base_uri": "https://localhost:8080/"
        },
        "id": "I5G5TwRkcaJW",
        "outputId": "8edd619a-0b3c-42e8-9f42-32083b06f189"
      },
      "execution_count": null,
      "outputs": [
        {
          "output_type": "execute_result",
          "data": {
            "text/plain": [
              "[1, 4, 9, 16, 25]"
            ]
          },
          "metadata": {},
          "execution_count": 61
        }
      ]
    },
    {
      "cell_type": "markdown",
      "source": [
        " 4. Write a Python function that checks if a given number is prime or not from 1 to 200."
      ],
      "metadata": {
        "id": "pSWURgAye4Tj"
      }
    },
    {
      "cell_type": "code",
      "source": [
        "for i in range(1,200):\n",
        "  for j in range (2,i):\n",
        "    if i % j == 0:\n",
        "      continue\n",
        "    else:\n",
        "      print(i)\n"
      ],
      "metadata": {
        "id": "t7nm7OrFkVQG"
      },
      "execution_count": null,
      "outputs": []
    },
    {
      "cell_type": "markdown",
      "source": [
        " 5. Create an iterator class in Python that generates the Fibonacci sequence up to a specified number of terms."
      ],
      "metadata": {
        "id": "KiO8Tjg0lYzQ"
      }
    },
    {
      "cell_type": "code",
      "metadata": {
        "id": "4e664659"
      },
      "source": [
        "class FibonacciIterator:\n",
        "    def __init__(self, limit):\n",
        "        self.limit = limit\n",
        "        self.a = 0\n",
        "        self.b = 1\n",
        "        self.count = 0\n",
        "\n",
        "    def __iter__(self):\n",
        "        return self\n",
        "\n",
        "    def __next__(self):\n",
        "        if self.count >= self.limit:\n",
        "            raise StopIteration\n",
        "        else:\n",
        "            result = self.a\n",
        "            self.a, self.b = self.b, self.a + self.b\n",
        "            self.count += 1\n",
        "            return result\n",
        "\n",
        "fib_iter = FibonacciIterator(10)\n",
        "for num in fib_iter:\n",
        "    print(num)"
      ],
      "execution_count": null,
      "outputs": []
    },
    {
      "cell_type": "markdown",
      "source": [
        "Q6. Write a generator function in Python that yields the powers of 2 up to a given exponent."
      ],
      "metadata": {
        "id": "72dD9rB3_3AJ"
      }
    },
    {
      "cell_type": "code",
      "metadata": {
        "colab": {
          "base_uri": "https://localhost:8080/"
        },
        "id": "1ceab1fa",
        "outputId": "8c102178-95b8-444f-efd7-e49f364113b2"
      },
      "source": [
        "def powers_of_2(exponent):\n",
        "\n",
        "  for i in range(exponent + 1):\n",
        "    yield 2**i\n",
        "for power in powers_of_2(5):\n",
        "  print(power)"
      ],
      "execution_count": 21,
      "outputs": [
        {
          "output_type": "stream",
          "name": "stdout",
          "text": [
            "1\n",
            "2\n",
            "4\n",
            "8\n",
            "16\n",
            "32\n"
          ]
        }
      ]
    },
    {
      "cell_type": "markdown",
      "source": [
        "Q7.Implement a generator function that reads a file line by line and yields each line as a string."
      ],
      "metadata": {
        "id": "x6nbMw9IAN4-"
      }
    },
    {
      "cell_type": "code",
      "metadata": {
        "id": "3a9020ed"
      },
      "source": [
        "# Create a dummy file for testing\n",
        "with open(\"my_test_file.txt\", \"w\") as f:\n",
        "    f.write(\"This is the first line.\\n\")\n",
        "    f.write(\"This is the second line.\\n\")\n",
        "    f.write(\"And this is the third line.\\n\")"
      ],
      "execution_count": 24,
      "outputs": []
    },
    {
      "cell_type": "code",
      "metadata": {
        "colab": {
          "base_uri": "https://localhost:8080/"
        },
        "id": "88eabfea",
        "outputId": "0c58af71-6687-4b1a-94e8-2e0974cbc30d"
      },
      "source": [
        "def read_file_lines(filename):\n",
        "  \"\"\"\n",
        "  Reads a file line by line and yields each line.\n",
        "\n",
        "  Args:\n",
        "    filename: The name of the file to read.\n",
        "\n",
        "  Yields:\n",
        "    Each line of the file as a string.\n",
        "  \"\"\"\n",
        "  with open(filename, 'r') as f:\n",
        "    for line in f:\n",
        "      yield line\n",
        "for line in read_file_lines(\"my_test_file.txt\"):\n",
        "  print(line, end='')"
      ],
      "execution_count": 25,
      "outputs": [
        {
          "output_type": "stream",
          "name": "stdout",
          "text": [
            "This is the first line.\n",
            "This is the second line.\n",
            "And this is the third line.\n"
          ]
        }
      ]
    },
    {
      "cell_type": "markdown",
      "source": [
        "Q8.Use a lambda function in Python to sort a list of tuples based on the second element of each tuple."
      ],
      "metadata": {
        "id": "xjZmth_9AsFQ"
      }
    },
    {
      "cell_type": "code",
      "metadata": {
        "colab": {
          "base_uri": "https://localhost:8080/"
        },
        "id": "0b60c813",
        "outputId": "0c0cd809-a185-4b37-f94d-53fb53ded440"
      },
      "source": [
        "list_of_tuples = [(1, 'b'), (3, 'd'), (2, 'a'), (4, 'c')]\n",
        "\n",
        "sorted_list = sorted(list_of_tuples, key=lambda x: x[1])\n",
        "\n",
        "print(sorted_list)"
      ],
      "execution_count": 26,
      "outputs": [
        {
          "output_type": "stream",
          "name": "stdout",
          "text": [
            "[(2, 'a'), (1, 'b'), (4, 'c'), (3, 'd')]\n"
          ]
        }
      ]
    },
    {
      "cell_type": "markdown",
      "source": [
        "Q9. Write a Python program that uses `map()` to convert a list of temperatures from Celsius to Fahrenheit."
      ],
      "metadata": {
        "id": "wtvHLRkVBCgI"
      }
    },
    {
      "cell_type": "code",
      "metadata": {
        "colab": {
          "base_uri": "https://localhost:8080/"
        },
        "id": "7efd93d5",
        "outputId": "0d1997b2-82d3-45e0-879f-02a9679353f6"
      },
      "source": [
        "def celsius_to_fahrenheit(celsius):\n",
        "  \"\"\"Converts Celsius to Fahrenheit.\"\"\"\n",
        "  return (celsius * 9/5) + 32\n",
        "\n",
        "celsius_temperatures = [0, 10, 20, 30, 40]\n",
        "\n",
        "fahrenheit_temperatures = list(map(celsius_to_fahrenheit, celsius_temperatures))\n",
        "\n",
        "print(fahrenheit_temperatures)"
      ],
      "execution_count": 27,
      "outputs": [
        {
          "output_type": "stream",
          "name": "stdout",
          "text": [
            "[32.0, 50.0, 68.0, 86.0, 104.0]\n"
          ]
        }
      ]
    },
    {
      "cell_type": "markdown",
      "source": [
        "Q10. Create a Python program that uses `filter()` to remove all the vowels from a given string."
      ],
      "metadata": {
        "id": "x3fRzr-JBS11"
      }
    },
    {
      "cell_type": "code",
      "metadata": {
        "colab": {
          "base_uri": "https://localhost:8080/"
        },
        "id": "0ec13ace",
        "outputId": "f5a99b6b-d2f2-4a5f-dbfc-24c494abd1a4"
      },
      "source": [
        "def is_not_vowel(char):\n",
        "  \"\"\"Checks if a character is not a vowel.\"\"\"\n",
        "  vowels = \"aeiouAEIOU\"\n",
        "  return char not in vowels\n",
        "input_string = \"Hello World\"\n",
        "filtered_characters = list(filter(is_not_vowel, input_string))\n",
        "\n",
        "result_string = \"\".join(filtered_characters)\n",
        "\n",
        "print(result_string)"
      ],
      "execution_count": 28,
      "outputs": [
        {
          "output_type": "stream",
          "name": "stdout",
          "text": [
            "Hll Wrld\n"
          ]
        }
      ]
    },
    {
      "cell_type": "markdown",
      "source": [
        "Q11.Imagine an accounting routine used in a book shop. It works on a list with sublists, which look like this:\n",
        " Write a Python program, which returns a list with 2-tuples. Each tuple consists of the order number and the\n",
        "product of the price per item and the quantity. The product should be increased by 10,- € if the value of the\n",
        "order is smaller than 100,00 €.\n",
        " Write a Python program using lambda and map"
      ],
      "metadata": {
        "id": "VSJpYMHBBmKs"
      }
    },
    {
      "cell_type": "code",
      "metadata": {
        "colab": {
          "base_uri": "https://localhost:8080/"
        },
        "id": "78550fbc",
        "outputId": "49054662-0b65-4085-f284-40133c605ba6"
      },
      "source": [
        "orders = [\n",
        "    [1, (\"5464\", 4, 9.95), (\"8743\", 17, 19.95), (\"1076\", 9, 39.95)],\n",
        "    [2, (\"7873\", 1, 24.95), (\"2317\", 7, 15.95)],\n",
        "    [3, (\"1076\", 19, 39.95), (\"0921\", 12, 49.95)]\n",
        "]\n",
        "\n",
        "def calculate_order_value(order):\n",
        "  \"\"\"Calculates the total value of an order.\"\"\"\n",
        "  order_number = order[0]\n",
        "  items = order[1:]\n",
        "  total_value = sum(quantity * price for _, quantity, price in items)\n",
        "  return order_number, total_value\n",
        "\n",
        "processed_orders = list(map(lambda order: (order[0], sum(item[1] * item[2] for item in order[1:]) + (10 if sum(item[1] * item[2] for item in order[1:]) < 100 else 0)), orders))\n",
        "\n",
        "print(processed_orders)"
      ],
      "execution_count": 29,
      "outputs": [
        {
          "output_type": "stream",
          "name": "stdout",
          "text": [
            "[(1, 738.5), (2, 136.6), (3, 1358.4500000000003)]\n"
          ]
        }
      ]
    }
  ]
}